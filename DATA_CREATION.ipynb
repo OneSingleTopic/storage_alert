{
 "cells": [
  {
   "cell_type": "markdown",
   "id": "167dfcc8",
   "metadata": {},
   "source": [
    "# Storage Alert\n",
    "\n",
    "We have two files csv from two different locations. \n",
    "We want to compare one given column from a file with another one and gather the results according to a last one.\n",
    "We have a \"product id\" column, a \"number of products\" column and a \"location\" column.\n",
    "\n",
    "Both file have different name for the columns and potentially different label for the locations.\n",
    "They have the same id for the product and the number of product is expressed as an int"
   ]
  },
  {
   "cell_type": "code",
   "execution_count": 113,
   "id": "1194b143",
   "metadata": {},
   "outputs": [],
   "source": [
    "%config IPCompleter.greedy=True\n",
    "import pandas\n",
    "import numpy as np\n",
    "import string\n",
    "import shutil\n",
    "from pathlib import Path\n",
    "import json"
   ]
  },
  {
   "cell_type": "code",
   "execution_count": 114,
   "id": "9b456d35",
   "metadata": {},
   "outputs": [],
   "source": [
    "ELEM_LOCATION = np.array(list(string.ascii_uppercase + \"\".join(map(str, range(10)))))\n",
    "\n",
    "def generate_location(sign_number_list):\n",
    "    return \"_\".join([generate_str(sign_number) for sign_number in sign_number_list])\n",
    "\n",
    "def generate_str(number_of_letter):\n",
    "    return \"\".join(ELEM_LOCATION[np.random.choice(len(ELEM_LOCATION), number_of_letter, replace=True)])\n",
    "\n",
    "def generate_location_code_params():\n",
    "    return np.random.choice(np.arange(2, 7, 1), np.random.choice(np.arange(2, 4)))\n",
    "\n",
    "def generate_location_labels(number_of_locations):\n",
    "    return {\n",
    "        generate_location(generate_location_code_params()):generate_location(generate_location_code_params())\n",
    "        for _ in range(number_of_locations)\n",
    "    }\n",
    "\n",
    "LOCATIONS = generate_location_labels(10)"
   ]
  },
  {
   "cell_type": "code",
   "execution_count": 115,
   "id": "55dc6090",
   "metadata": {},
   "outputs": [
    {
     "name": "stdout",
     "output_type": "stream",
     "text": [
      "3000\n"
     ]
    }
   ],
   "source": [
    "NPRODUCTS = 3000\n",
    "PRODUCTS = set(\n",
    "    generate_str(10) for _ in range(NPRODUCTS)\n",
    ")\n",
    "print(len(PRODUCTS))"
   ]
  },
  {
   "cell_type": "code",
   "execution_count": 116,
   "id": "ba7bfcaf",
   "metadata": {},
   "outputs": [],
   "source": [
    "STORAGE = [\n",
    "    {\n",
    "        \"ID\": product, \n",
    "        \"LOCATION\": np.random.choice(list(LOCATIONS.keys())),\n",
    "        \"NUMBER\": np.random.choice(5000)\n",
    "    }\n",
    "    for product in PRODUCTS \n",
    "]\n",
    "HANGAR_0_DF = pandas.DataFrame(STORAGE)"
   ]
  },
  {
   "cell_type": "code",
   "execution_count": 117,
   "id": "7051079f",
   "metadata": {},
   "outputs": [],
   "source": [
    "HANGAR_1_DF = HANGAR_0_DF.copy()\n",
    "HANGAR_1_DF.loc[:,\"LOCATION\"] = HANGAR_0_DF.LOCATION.map(lambda x: LOCATIONS[x])\n",
    "HANGAR_1_DF.loc[:,\"NUMBER\"] = HANGAR_0_DF.NUMBER.map(\n",
    "    lambda x: x + np.random.choice(np.arange(-100, 100)) if np.random.rand() > 0.99 else x\n",
    ")"
   ]
  },
  {
   "cell_type": "code",
   "execution_count": 118,
   "id": "7852d12d",
   "metadata": {},
   "outputs": [],
   "source": [
    "if Path(\"data\").exists():\n",
    "    shutil.rmtree(Path(\"data\"))\n",
    "Path(\"data\").mkdir()\n",
    "HANGAR_0_DF.to_csv(\"data/HANGAR_0.csv\", sep=';')\n",
    "HANGAR_1_DF.to_csv(\"data/HANGAR_1.csv\", sep=';')\n",
    "\n",
    " \n",
    "with open(\"data/locations_keys.json\", \"w\") as outfile:\n",
    "    json.dump(LOCATIONS, outfile)\n",
    "    "
   ]
  }
 ],
 "metadata": {
  "kernelspec": {
   "display_name": "Python 3 (ipykernel)",
   "language": "python",
   "name": "python3"
  },
  "language_info": {
   "codemirror_mode": {
    "name": "ipython",
    "version": 3
   },
   "file_extension": ".py",
   "mimetype": "text/x-python",
   "name": "python",
   "nbconvert_exporter": "python",
   "pygments_lexer": "ipython3",
   "version": "3.8.10"
  }
 },
 "nbformat": 4,
 "nbformat_minor": 5
}
